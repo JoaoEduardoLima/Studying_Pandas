{
 "cells": [
  {
   "cell_type": "code",
   "execution_count": 1,
   "id": "74d01e82",
   "metadata": {},
   "outputs": [],
   "source": [
    "import pandas as pd"
   ]
  },
  {
   "cell_type": "code",
   "execution_count": 2,
   "id": "148a6e02",
   "metadata": {},
   "outputs": [
    {
     "data": {
      "text/plain": [
       "0     a\n",
       "1     s\n",
       "2     d\n",
       "3     a\n",
       "4     d\n",
       "5     e\n",
       "6     a\n",
       "7     d\n",
       "8     e\n",
       "9     s\n",
       "10    d\n",
       "11    a\n",
       "12    s\n",
       "13    e\n",
       "14    s\n",
       "15    d\n",
       "16    a\n",
       "dtype: object"
      ]
     },
     "execution_count": 2,
     "metadata": {},
     "output_type": "execute_result"
    }
   ],
   "source": [
    "s = pd.Series(list('asdadeadesdasesda'))\n",
    "s"
   ]
  },
  {
   "cell_type": "code",
   "execution_count": 3,
   "id": "85d7d0e8",
   "metadata": {},
   "outputs": [
    {
     "data": {
      "text/plain": [
       "array(['a', 's', 'd', 'e'], dtype=object)"
      ]
     },
     "execution_count": 3,
     "metadata": {},
     "output_type": "execute_result"
    }
   ],
   "source": [
    "s.unique()"
   ]
  },
  {
   "cell_type": "code",
   "execution_count": 4,
   "id": "07c331c6",
   "metadata": {},
   "outputs": [
    {
     "data": {
      "text/plain": [
       "d    5\n",
       "a    5\n",
       "s    4\n",
       "e    3\n",
       "dtype: int64"
      ]
     },
     "execution_count": 4,
     "metadata": {},
     "output_type": "execute_result"
    }
   ],
   "source": [
    "s.value_counts()"
   ]
  },
  {
   "cell_type": "code",
   "execution_count": 9,
   "id": "ce006b2e",
   "metadata": {},
   "outputs": [],
   "source": [
    "dados = pd.read_table('dados/aluguel.txt')\n"
   ]
  },
  {
   "cell_type": "code",
   "execution_count": 10,
   "id": "b2864811",
   "metadata": {},
   "outputs": [
    {
     "data": {
      "text/plain": [
       "array(['Quitinete', 'Casa', 'Conjunto Comercial/Sala', 'Apartamento',\n",
       "       'Casa de Condomínio'], dtype=object)"
      ]
     },
     "execution_count": 10,
     "metadata": {},
     "output_type": "execute_result"
    }
   ],
   "source": [
    "dados.Tipo.unique()"
   ]
  },
  {
   "cell_type": "code",
   "execution_count": 11,
   "id": "3613f80b",
   "metadata": {},
   "outputs": [
    {
     "data": {
      "text/plain": [
       "Apartamento                4\n",
       "Conjunto Comercial/Sala    2\n",
       "Casa de Condomínio         2\n",
       "Quitinete                  1\n",
       "Casa                       1\n",
       "Name: Tipo, dtype: int64"
      ]
     },
     "execution_count": 11,
     "metadata": {},
     "output_type": "execute_result"
    }
   ],
   "source": [
    "dados.Tipo.value_counts()"
   ]
  },
  {
   "cell_type": "code",
   "execution_count": null,
   "id": "a2e21933",
   "metadata": {},
   "outputs": [],
   "source": []
  }
 ],
 "metadata": {
  "kernelspec": {
   "display_name": "Python 3",
   "language": "python",
   "name": "python3"
  },
  "language_info": {
   "codemirror_mode": {
    "name": "ipython",
    "version": 3
   },
   "file_extension": ".py",
   "mimetype": "text/x-python",
   "name": "python",
   "nbconvert_exporter": "python",
   "pygments_lexer": "ipython3",
   "version": "3.8.8"
  }
 },
 "nbformat": 4,
 "nbformat_minor": 5
}
